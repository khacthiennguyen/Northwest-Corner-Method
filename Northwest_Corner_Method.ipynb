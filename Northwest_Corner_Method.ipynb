{
  "nbformat": 4,
  "nbformat_minor": 0,
  "metadata": {
    "colab": {
      "provenance": [],
      "authorship_tag": "ABX9TyPfqGh0uHAmecRf8Q8D6fO3",
      "include_colab_link": true
    },
    "kernelspec": {
      "name": "python3",
      "display_name": "Python 3"
    },
    "language_info": {
      "name": "python"
    }
  },
  "cells": [
    {
      "cell_type": "markdown",
      "metadata": {
        "id": "view-in-github",
        "colab_type": "text"
      },
      "source": [
        "<a href=\"https://colab.research.google.com/github/khacthiennguyen/Northwest-Corner-Method/blob/main/Northwest_Corner_Method.ipynb\" target=\"_parent\"><img src=\"https://colab.research.google.com/assets/colab-badge.svg\" alt=\"Open In Colab\"/></a>"
      ]
    },
    {
      "cell_type": "markdown",
      "source": [
        "# **Vi**"
      ],
      "metadata": {
        "id": "jmk5RxuNx-9g"
      }
    },
    {
      "cell_type": "code",
      "source": [
        "import numpy as np\n",
        "\n",
        "def taybac_algothims(cols, rows):\n",
        "    cols = np.array(cols)\n",
        "    rows = np.array(rows)\n",
        "    #tạo ma trận tạm từ zeros, giá trị là int\n",
        "    cot, dong = len(cols), len(rows)\n",
        "    matran_output = np.zeros((cot, dong), dtype=int)\n",
        "\n",
        "    i = j = 0\n",
        "    # lặp xem có phải là hàng cuối cùng hoặc cột cuối cùng không\n",
        "    while i < cot and j < dong:\n",
        "        if i == cot - 1:\n",
        "            number = rows[j]\n",
        "        elif j == dong - 1:\n",
        "            number = cols[i]\n",
        "        else:\n",
        "            number = min(cols[i], rows[j])\n",
        "\n",
        "        matran_output[i, j] = number\n",
        "\n",
        "        cols[i] -= number\n",
        "        rows[j] -= number\n",
        "\n",
        "        if cols[i] == 0:\n",
        "            i += 1\n",
        "        elif rows[j] == 0:\n",
        "            j += 1\n",
        "\n",
        "    return matran_output\n"
      ],
      "metadata": {
        "id": "pn-8cDClbWO7"
      },
      "execution_count": null,
      "outputs": []
    },
    {
      "cell_type": "code",
      "source": [
        "cols = [8, 5, 6, 3, 2, 7,31]\n",
        "rows = [6, 4, 5, 5, 2, 9]\n",
        "\n",
        "ketqua = taybac_algothims(cols, rows)\n",
        "#thêm vào ma trận giá trị của cột và hàng từ dữ liệu\n",
        "ketqua[-1, :] = rows #thêm vào dòng cuối ma trận\n",
        "ketqua = np.insert(ketqua, 0, np.array(cols), axis=1) #nối vào ma trận trước cột đầu tiên\n",
        "\n",
        "print(ketqua)"
      ],
      "metadata": {
        "colab": {
          "base_uri": "https://localhost:8080/"
        },
        "id": "_L5s9aG7udZw",
        "outputId": "1330cf65-81b8-4b86-9248-86597fb4ef94"
      },
      "execution_count": null,
      "outputs": [
        {
          "output_type": "stream",
          "name": "stdout",
          "text": [
            "[[ 8  6  2  0  0  0  0]\n",
            " [ 5  0  2  3  0  0  0]\n",
            " [ 6  0  0  2  4  0  0]\n",
            " [ 3  0  0  0  1  2  0]\n",
            " [ 2  0  0  0  0  0  2]\n",
            " [ 7  0  0  0  0  0  7]\n",
            " [31  6  4  5  5  2  9]]\n"
          ]
        }
      ]
    },
    {
      "cell_type": "markdown",
      "source": [
        "# **Eng**"
      ],
      "metadata": {
        "id": "wFW_a2Enx67f"
      }
    },
    {
      "cell_type": "code",
      "source": [
        "import numpy as np\n",
        "\n",
        "def northwest_corner_optimized(supply, demand):\n",
        "    supply = np.array(supply)\n",
        "    demand = np.array(demand)\n",
        "\n",
        "    num_sources, num_destinations = len(supply), len(demand)\n",
        "    transport_matrix = np.zeros((num_sources, num_destinations), dtype=int)\n",
        "\n",
        "    i = j = 0\n",
        "    while i < num_sources and j < num_destinations:\n",
        "        # Check if it's the last row or column\n",
        "        if i == num_sources - 1:\n",
        "            transport_amount = demand[j]\n",
        "        elif j == num_destinations - 1:\n",
        "            transport_amount = supply[i]\n",
        "        else:\n",
        "            transport_amount = min(supply[i], demand[j])\n",
        "\n",
        "        transport_matrix[i, j] = transport_amount\n",
        "\n",
        "        supply[i] -= transport_amount\n",
        "        demand[j] -= transport_amount\n",
        "\n",
        "        if supply[i] == 0:\n",
        "            i += 1\n",
        "        elif demand[j] == 0:\n",
        "            j += 1\n",
        "\n",
        "    return transport_matrix\n",
        "\n",
        "# Sample data\n",
        "supply = [8, 5, 6, 3, 2, 7,31]\n",
        "demand = [6, 4, 5, 5, 2, 9]\n",
        "\n",
        "transport_plan = northwest_corner_optimized(supply, demand)\n",
        "\n",
        "# Append the remaining demand values to the last row\n",
        "transport_plan[-1, :] = demand\n",
        "transport_plan = np.insert(transport_plan, 0, np.array(supply), axis=1)\n",
        "# Display the transport plan\n",
        "print(transport_plan)"
      ],
      "metadata": {
        "colab": {
          "base_uri": "https://localhost:8080/"
        },
        "id": "Dyp8Q_VqxdA_",
        "outputId": "8a6fb96e-0814-4ee5-9a30-cae97f621fd7"
      },
      "execution_count": null,
      "outputs": [
        {
          "output_type": "stream",
          "name": "stdout",
          "text": [
            "[[ 8  6  2  0  0  0  0]\n",
            " [ 5  0  2  3  0  0  0]\n",
            " [ 6  0  0  2  4  0  0]\n",
            " [ 3  0  0  0  1  2  0]\n",
            " [ 2  0  0  0  0  0  2]\n",
            " [ 7  0  0  0  0  0  7]\n",
            " [31  6  4  5  5  2  9]]\n"
          ]
        }
      ]
    }
  ]
}